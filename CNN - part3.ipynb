{
 "cells": [
  {
   "cell_type": "code",
   "execution_count": 1,
   "metadata": {},
   "outputs": [
    {
     "name": "stderr",
     "output_type": "stream",
     "text": [
      "/usr/local/lib/python3.6/dist-packages/h5py/__init__.py:36: FutureWarning: Conversion of the second argument of issubdtype from `float` to `np.floating` is deprecated. In future, it will be treated as `np.float64 == np.dtype(float).type`.\n",
      "  from ._conv import register_converters as _register_converters\n"
     ]
    },
    {
     "name": "stdout",
     "output_type": "stream",
     "text": [
      "Train on 22451 samples, validate on 2495 samples\n",
      "Epoch 1/10\n",
      "22451/22451 [==============================] - 13s 572us/step - loss: 0.6253 - acc: 0.6418 - val_loss: 0.5536 - val_acc: 0.7198\n",
      "Epoch 2/10\n",
      "22451/22451 [==============================] - 11s 499us/step - loss: 0.5179 - acc: 0.7455 - val_loss: 0.4967 - val_acc: 0.7675\n",
      "Epoch 3/10\n",
      "22451/22451 [==============================] - 11s 503us/step - loss: 0.4737 - acc: 0.7753 - val_loss: 0.4738 - val_acc: 0.7808\n",
      "Epoch 4/10\n",
      "22451/22451 [==============================] - 11s 506us/step - loss: 0.4430 - acc: 0.7948 - val_loss: 0.4543 - val_acc: 0.7856\n",
      "Epoch 5/10\n",
      "22451/22451 [==============================] - 11s 511us/step - loss: 0.4135 - acc: 0.8105 - val_loss: 0.4294 - val_acc: 0.8004\n",
      "Epoch 6/10\n",
      "22451/22451 [==============================] - 11s 510us/step - loss: 0.3821 - acc: 0.8270 - val_loss: 0.4350 - val_acc: 0.8044\n",
      "Epoch 7/10\n",
      "22451/22451 [==============================] - 11s 511us/step - loss: 0.3566 - acc: 0.8429 - val_loss: 0.4256 - val_acc: 0.8012\n",
      "Epoch 8/10\n",
      "22451/22451 [==============================] - 12s 513us/step - loss: 0.3328 - acc: 0.8548 - val_loss: 0.4277 - val_acc: 0.8044\n",
      "Epoch 9/10\n",
      "22451/22451 [==============================] - 12s 516us/step - loss: 0.3124 - acc: 0.8613 - val_loss: 0.4529 - val_acc: 0.8092\n",
      "Epoch 10/10\n",
      "22451/22451 [==============================] - 12s 523us/step - loss: 0.2943 - acc: 0.8739 - val_loss: 0.4581 - val_acc: 0.8044\n"
     ]
    },
    {
     "data": {
      "text/plain": [
       "<tensorflow.python.keras.callbacks.History at 0x7f9532a58d30>"
      ]
     },
     "execution_count": 1,
     "metadata": {},
     "output_type": "execute_result"
    }
   ],
   "source": [
    "import tensorflow as tf\n",
    "from tensorflow.keras.models import Sequential\n",
    "from tensorflow.keras.layers import Dense, Activation, Dropout, Flatten, Conv2D, MaxPooling2D\n",
    "import pickle\n",
    "\n",
    "X = pickle.load(open(\"X.pickle\", \"rb\"))\n",
    "y = pickle.load(open(\"y.pickle\", \"rb\"))\n",
    "\n",
    "X = X/255.0\n",
    "\n",
    "model = Sequential()\n",
    "model.add(Conv2D(64, (3, 3), input_shape = X.shape[1:]))\n",
    "model.add(Activation(\"relu\"))\n",
    "model.add(MaxPooling2D(pool_size = (2, 2)))\n",
    "\n",
    "model.add(Conv2D(64, (3, 3)))\n",
    "model.add(Activation(\"relu\"))\n",
    "model.add(MaxPooling2D(pool_size = (2, 2)))\n",
    "\n",
    "model.add(Flatten())\n",
    "model.add(Dense(64))\n",
    "\n",
    "model.add(Dense(1))\n",
    "model.add(Activation('sigmoid'))\n",
    "\n",
    "model.compile(optimizer='adam', \n",
    "             loss='binary_crossentropy', \n",
    "             metrics=['accuracy'])\n",
    "model.fit(X, y, batch_size=32, epochs=10, validation_split=0.1)"
   ]
  },
  {
   "cell_type": "code",
   "execution_count": null,
   "metadata": {},
   "outputs": [],
   "source": []
  }
 ],
 "metadata": {
  "kernelspec": {
   "display_name": "Python 3",
   "language": "python",
   "name": "python3"
  },
  "language_info": {
   "codemirror_mode": {
    "name": "ipython",
    "version": 3
   },
   "file_extension": ".py",
   "mimetype": "text/x-python",
   "name": "python",
   "nbconvert_exporter": "python",
   "pygments_lexer": "ipython3",
   "version": "3.6.7"
  }
 },
 "nbformat": 4,
 "nbformat_minor": 2
}
