{
 "cells": [
  {
   "cell_type": "code",
   "execution_count": 1,
   "metadata": {},
   "outputs": [
    {
     "name": "stderr",
     "output_type": "stream",
     "text": [
      "/usr/local/lib/python3.6/dist-packages/h5py/__init__.py:36: FutureWarning: Conversion of the second argument of issubdtype from `float` to `np.floating` is deprecated. In future, it will be treated as `np.float64 == np.dtype(float).type`.\n",
      "  from ._conv import register_converters as _register_converters\n"
     ]
    },
    {
     "name": "stdout",
     "output_type": "stream",
     "text": [
      "Train on 17462 samples, validate on 7484 samples\n",
      "Epoch 1/10\n",
      "17462/17462 [==============================] - 12s 678us/step - loss: 0.6390 - acc: 0.6230 - val_loss: 0.5942 - val_acc: 0.6908\n",
      "Epoch 2/10\n",
      "17462/17462 [==============================] - 10s 580us/step - loss: 0.5357 - acc: 0.7304 - val_loss: 0.5178 - val_acc: 0.7392\n",
      "Epoch 3/10\n",
      "17462/17462 [==============================] - 10s 581us/step - loss: 0.4745 - acc: 0.7750 - val_loss: 0.4934 - val_acc: 0.7610\n",
      "Epoch 4/10\n",
      "17462/17462 [==============================] - 10s 567us/step - loss: 0.4380 - acc: 0.7962 - val_loss: 0.4548 - val_acc: 0.7858\n",
      "Epoch 5/10\n",
      "17462/17462 [==============================] - 10s 562us/step - loss: 0.4142 - acc: 0.8107 - val_loss: 0.4481 - val_acc: 0.7897\n",
      "Epoch 6/10\n",
      "17462/17462 [==============================] - 10s 562us/step - loss: 0.3832 - acc: 0.8293 - val_loss: 0.4328 - val_acc: 0.8048\n",
      "Epoch 7/10\n",
      "17462/17462 [==============================] - 10s 563us/step - loss: 0.3578 - acc: 0.8398 - val_loss: 0.4242 - val_acc: 0.8046\n",
      "Epoch 8/10\n",
      "17462/17462 [==============================] - 10s 563us/step - loss: 0.3299 - acc: 0.8546 - val_loss: 0.4061 - val_acc: 0.8180\n",
      "Epoch 9/10\n",
      "17462/17462 [==============================] - 10s 566us/step - loss: 0.3011 - acc: 0.8708 - val_loss: 0.4285 - val_acc: 0.8085\n",
      "Epoch 10/10\n",
      "17462/17462 [==============================] - 10s 564us/step - loss: 0.2809 - acc: 0.8797 - val_loss: 0.4516 - val_acc: 0.8026\n"
     ]
    }
   ],
   "source": [
    "from tensorflow.keras.models import Sequential\n",
    "from tensorflow.keras.layers import Dense, Dropout, Activation, Flatten\n",
    "from tensorflow.keras.layers import Conv2D, MaxPooling2D\n",
    "\n",
    "from tensorflow.keras.callbacks import TensorBoard\n",
    "import pickle\n",
    "import time\n",
    "\n",
    "pickle_in = open(\"X.pickle\", \"rb\")\n",
    "X = pickle.load(pickle_in)\n",
    "\n",
    "pickle_in = open(\"y.pickle\", \"rb\")\n",
    "y = pickle.load(pickle_in)\n",
    "\n",
    "X = X/255.0\n",
    "\n",
    "dense_layers = [0]\n",
    "layer_sizes = [64]\n",
    "conv_layers= [3]\n",
    "\n",
    "for dense_layer in dense_layers:\n",
    "    for layer_size in layer_sizes:\n",
    "        for conv_layer in conv_layers:\n",
    "            NAME = \"{}-conv-{}-nodes-{}-dense-{}\".format(conv_layer, layer_size, dense_layer, int(time.time()))\n",
    "            tensorboard = TensorBoard(log_dir='../logs/{}'.format(NAME))\n",
    "            #print(NAME)\n",
    "            model = Sequential()\n",
    "            model.add(Conv2D(64, (3, 3), input_shape = X.shape[1:]))\n",
    "            model.add(Activation(\"relu\"))\n",
    "            model.add(MaxPooling2D(pool_size = (2, 2)))\n",
    "\n",
    "            for i in range(conv_layer-1):\n",
    "                model.add(Conv2D(64, (3, 3)))\n",
    "                model.add(Activation(\"relu\"))\n",
    "                model.add(MaxPooling2D(pool_size = (2, 2)))\n",
    "\n",
    "            model.add(Flatten())\n",
    "\n",
    "            for i in range(dense_layer):\n",
    "                model.add(Dense(layer_size))\n",
    "                model.add(Activation(\"relu\"))\n",
    "\n",
    "            model.add(Dense(1))\n",
    "            model.add(Activation('sigmoid'))\n",
    "\n",
    "            model.compile(optimizer='adam', \n",
    "                        loss='binary_crossentropy', \n",
    "                        metrics=['accuracy'])\n",
    "            model.fit(X, y, \n",
    "                      batch_size=32, \n",
    "                      epochs=10, \n",
    "                      validation_split=0.3, \n",
    "                      callbacks=[tensorboard])\n",
    "            \n",
    "model.save(\"64x3-CNN.model\")"
   ]
  },
  {
   "cell_type": "code",
   "execution_count": 2,
   "metadata": {},
   "outputs": [
    {
     "name": "stdout",
     "output_type": "stream",
     "text": [
      "[[[0.78039216 0.81568627 0.85490196]\n",
      "  [0.78039216 0.81568627 0.85490196]\n",
      "  [0.78039216 0.81568627 0.85490196]\n",
      "  ...\n",
      "  [0.30980392 0.36078431 0.42352941]\n",
      "  [0.29803922 0.37254902 0.47058824]\n",
      "  [0.30196078 0.38039216 0.4745098 ]]\n",
      "\n",
      " [[0.77647059 0.81176471 0.85098039]\n",
      "  [0.77254902 0.80784314 0.84705882]\n",
      "  [0.77254902 0.80784314 0.84705882]\n",
      "  ...\n",
      "  [0.34117647 0.40392157 0.47843137]\n",
      "  [0.32941176 0.38431373 0.47058824]\n",
      "  [0.34509804 0.4        0.48627451]]\n",
      "\n",
      " [[0.77254902 0.80784314 0.84705882]\n",
      "  [0.76862745 0.80392157 0.84313725]\n",
      "  [0.76078431 0.79607843 0.83529412]\n",
      "  ...\n",
      "  [0.38823529 0.45098039 0.51764706]\n",
      "  [0.36862745 0.43529412 0.50980392]\n",
      "  [0.37254902 0.43921569 0.51372549]]\n",
      "\n",
      " ...\n",
      "\n",
      " [[0.37647059 0.51372549 0.68627451]\n",
      "  [0.48627451 0.62745098 0.78431373]\n",
      "  [0.49411765 0.63529412 0.79215686]\n",
      "  ...\n",
      "  [0.50980392 0.65098039 0.76862745]\n",
      "  [0.56862745 0.70196078 0.81960784]\n",
      "  [0.34117647 0.47843137 0.63529412]]\n",
      "\n",
      " [[0.47058824 0.60784314 0.77254902]\n",
      "  [0.48627451 0.63529412 0.77254902]\n",
      "  [0.51372549 0.65490196 0.81176471]\n",
      "  ...\n",
      "  [0.54509804 0.68627451 0.80392157]\n",
      "  [0.56078431 0.69411765 0.81176471]\n",
      "  [0.33333333 0.4745098  0.63137255]]\n",
      "\n",
      " [[0.48627451 0.62745098 0.78431373]\n",
      "  [0.49803922 0.63921569 0.79607843]\n",
      "  [0.43921569 0.59215686 0.74509804]\n",
      "  ...\n",
      "  [0.56862745 0.70196078 0.81568627]\n",
      "  [0.42745098 0.55294118 0.69019608]\n",
      "  [0.35294118 0.49803922 0.63529412]]] 1\n"
     ]
    }
   ],
   "source": [
    "print(X[1], y[1])"
   ]
  },
  {
   "cell_type": "code",
   "execution_count": 4,
   "metadata": {},
   "outputs": [
    {
     "data": {
      "image/png": "[encoded data removed]",
      "text/plain": [
       "<Figure size 432x288 with 1 Axes>"
      ]
     },
     "metadata": {},
     "output_type": "display_data"
    },
    {
     "name": "stdout",
     "output_type": "stream",
     "text": [
      "None\n"
     ]
    }
   ],
   "source": [
    "import matplotlib.pyplot as plt\n",
    "\n",
    "plt.imshow(X[1])\n",
    "print(plt.show())"
   ]
  },
  {
   "cell_type": "code",
   "execution_count": null,
   "metadata": {},
   "outputs": [],
   "source": []
  }
 ],
 "metadata": {
  "kernelspec": {
   "display_name": "Python 3",
   "language": "python",
   "name": "python3"
  },
  "language_info": {
   "codemirror_mode": {
    "name": "ipython",
    "version": 3
   },
   "file_extension": ".py",
   "mimetype": "text/x-python",
   "name": "python",
   "nbconvert_exporter": "python",
   "pygments_lexer": "ipython3",
   "version": "3.6.7"
  }
 },
 "nbformat": 4,
 "nbformat_minor": 2
}
